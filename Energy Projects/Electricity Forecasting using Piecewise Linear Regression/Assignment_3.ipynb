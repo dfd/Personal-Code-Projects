{
 "cells": [
  {
   "cell_type": "markdown",
   "metadata": {},
   "source": [
    "## Task 1"
   ]
  },
  {
   "cell_type": "code",
   "execution_count": 1,
   "metadata": {
    "collapsed": true
   },
   "outputs": [],
   "source": [
    "import matplotlib.pyplot as plt\n",
    "%matplotlib inline\n",
    "import pandas as pd\n",
    "import numpy as np\n",
    "import scipy\n",
    "import scipy.signal"
   ]
  },
  {
   "cell_type": "code",
   "execution_count": 29,
   "metadata": {},
   "outputs": [
    {
     "data": {
      "text/html": [
       "<div>\n",
       "<style scoped>\n",
       "    .dataframe tbody tr th:only-of-type {\n",
       "        vertical-align: middle;\n",
       "    }\n",
       "\n",
       "    .dataframe tbody tr th {\n",
       "        vertical-align: top;\n",
       "    }\n",
       "\n",
       "    .dataframe thead th {\n",
       "        text-align: right;\n",
       "    }\n",
       "</style>\n",
       "<table border=\"1\" class=\"dataframe\">\n",
       "  <thead>\n",
       "    <tr style=\"text-align: right;\">\n",
       "      <th></th>\n",
       "      <th>T</th>\n",
       "      <th>D</th>\n",
       "    </tr>\n",
       "    <tr>\n",
       "      <th>key_0</th>\n",
       "      <th></th>\n",
       "      <th></th>\n",
       "    </tr>\n",
       "  </thead>\n",
       "  <tbody>\n",
       "    <tr>\n",
       "      <th>2014-02-12 07:00:00</th>\n",
       "      <td>13.645667</td>\n",
       "      <td>75486.107422</td>\n",
       "    </tr>\n",
       "    <tr>\n",
       "      <th>2014-02-12 07:15:00</th>\n",
       "      <td>13.353000</td>\n",
       "      <td>174391.348958</td>\n",
       "    </tr>\n",
       "    <tr>\n",
       "      <th>2014-02-12 07:30:00</th>\n",
       "      <td>12.848333</td>\n",
       "      <td>184264.052083</td>\n",
       "    </tr>\n",
       "    <tr>\n",
       "      <th>2014-02-12 07:45:00</th>\n",
       "      <td>12.212667</td>\n",
       "      <td>189185.911458</td>\n",
       "    </tr>\n",
       "    <tr>\n",
       "      <th>2014-02-12 08:00:00</th>\n",
       "      <td>11.806333</td>\n",
       "      <td>190757.645833</td>\n",
       "    </tr>\n",
       "  </tbody>\n",
       "</table>\n",
       "</div>"
      ],
      "text/plain": [
       "                             T              D\n",
       "key_0                                        \n",
       "2014-02-12 07:00:00  13.645667   75486.107422\n",
       "2014-02-12 07:15:00  13.353000  174391.348958\n",
       "2014-02-12 07:30:00  12.848333  184264.052083\n",
       "2014-02-12 07:45:00  12.212667  189185.911458\n",
       "2014-02-12 08:00:00  11.806333  190757.645833"
      ]
     },
     "execution_count": 29,
     "metadata": {},
     "output_type": "execute_result"
    }
   ],
   "source": [
    "def harmonizeData(period):\n",
    "    campusdata = pd.read_csv(\"campusDemand.csv\", infer_datetime_format=True)\n",
    "    \n",
    "    bdata = campusdata[campusdata[\"Point name\"]=='Baker Hall Electric (Shark 29) - Demand Watts ']\n",
    "    bdata = pd.DataFrame(index = pd.to_datetime(bdata['Time']), data = bdata['Value'].values, columns=['D'])\n",
    "    bdata = bdata.resample(period).mean()\n",
    "    \n",
    "    tdata = pd.read_csv(\"temperature.csv\", infer_datetime_format=True)\n",
    "    tdata = pd.DataFrame(index = pd.to_datetime(tdata['Timestamp']), data = tdata['IW.Weather.Kpit56.Csv.Temp'].values, columns=['T'])\n",
    "    tdata = tdata.resample(period).mean()\n",
    "    \n",
    "    df = tdata.merge(bdata, left_on=tdata.index.values, right_on=bdata.index.values).interpolate()\n",
    "    df = df.set_index(\"key_0\")\n",
    "    df = df.loc[df.index.dayofweek<5]\n",
    "\n",
    "    return df\n",
    "    \n",
    "df = harmonizeData(\"15Min\")\n",
    "df.head()"
   ]
  },
  {
   "cell_type": "markdown",
   "metadata": {},
   "source": [
    "## Task 2"
   ]
  },
  {
   "cell_type": "code",
   "execution_count": 76,
   "metadata": {},
   "outputs": [],
   "source": [
    "def createtempvector(temp):\n",
    "    temp_b = -10\n",
    "    temp_t = 90\n",
    "    if temp <= -10:\n",
    "        return list(np.concatenate(np.zeros((10))))\n",
    "    elif temp >= 90:\n",
    "        return list(10*np.ones(10))\n",
    "    else:\n",
    "        num = (temp+10)//10\n",
    "        rem_value = temp%10\n",
    "\n",
    "        if num == 9:\n",
    "            return list(np.concatenate((10*np.ones(9),[rem_value])))\n",
    "        else:\n",
    "            return list(np.concatenate((10*np.ones(int(num)), [rem_value], np.zeros((9-int(num))))))\n",
    "\n",
    "def createtimevector(timearray, time, row_num):\n",
    "    col_num = time.dayofweek*96+time.hour*4+time.minute//15\n",
    "    timearray[row_num, col_num] = 1\n",
    "    return timearray\n",
    "    \n",
    "    \n"
   ]
  },
  {
   "cell_type": "code",
   "execution_count": 78,
   "metadata": {
    "collapsed": true
   },
   "outputs": [],
   "source": [
    "def createDesignMatrix1(df):\n",
    "    templist = []\n",
    "    timearray = np.zeros((len(df), 480))\n",
    "    for i in range(len(df)):\n",
    "        templist.append(createtempvector(df[\"T\"][i]))\n",
    "        timearray = createtimevector(timearray, df.index[i], i)\n",
    "        \n",
    "    templist = np.asarray(templist)\n",
    "    A = np.concatenate([np.array(templist), np.array(timearray)], axis=1)\n",
    "    \n",
    "    return A\n",
    "\n",
    "A1 = createDesignMatrix1(df)\n",
    "y = np.asarray(list(df[\"D\"]))"
   ]
  },
  {
   "cell_type": "code",
   "execution_count": 79,
   "metadata": {},
   "outputs": [
    {
     "data": {
      "text/plain": [
       "((18589, 490), (18589,))"
      ]
     },
     "execution_count": 79,
     "metadata": {},
     "output_type": "execute_result"
    }
   ],
   "source": [
    "A1.shape, y.shape"
   ]
  },
  {
   "cell_type": "markdown",
   "metadata": {},
   "source": [
    "## Task 3"
   ]
  },
  {
   "cell_type": "code",
   "execution_count": 81,
   "metadata": {
    "collapsed": true
   },
   "outputs": [],
   "source": [
    "# A1,y = createDesignMatrix1(joined)\n",
    "coeffs1 = np.dot(np.linalg.pinv(A1),y)\n",
    "y_hat1 = np.dot(A1,coeffs1)"
   ]
  },
  {
   "cell_type": "markdown",
   "metadata": {},
   "source": [
    "## Task 4\n",
    "I am investigating whether or not the 15min intervals are independent of the day.\n",
    "Thus instead of having a feature for every combination of day and 15min interval, i.e. 480 features ($5days * 24\\ hrs * 4 intervals\\ per\\ hour$), I seperate the two feature and thus have 101 features ($5days + 24\\ hrs * 4 intervals\\ per\\ hour$)."
   ]
  },
  {
   "cell_type": "code",
   "execution_count": 83,
   "metadata": {
    "collapsed": true
   },
   "outputs": [],
   "source": [
    "def createtimevector(timearray, time, row_num):\n",
    "    col_num1 = time.hour*4+time.minute//15\n",
    "    col_num2 = time.dayofweek+95\n",
    "    timearray[row_num, col_num1] = 1\n",
    "    timearray[row_num, col_num2]\n",
    "    return timearray"
   ]
  },
  {
   "cell_type": "code",
   "execution_count": 85,
   "metadata": {},
   "outputs": [],
   "source": [
    "def createDesignMatrix2(df):\n",
    "    templist = []\n",
    "    timearray = np.zeros((len(df), 101))\n",
    "    for i in range(len(df)):\n",
    "        templist.append(createtempvector(df[\"T\"][i]))\n",
    "        timearray = createtimevector(timearray, df.index[i], i)\n",
    "        \n",
    "    templist = np.asarray(templist)\n",
    "    A = np.concatenate([np.array(templist), np.array(timearray)], axis=1)\n",
    "    \n",
    "    return A\n",
    "\n",
    "A2 = createDesignMatrix2(df)\n",
    "coeffs2 = np.dot(np.linalg.pinv(A2),y)\n",
    "y_hat2 = np.dot(A2,coeffs2)"
   ]
  },
  {
   "cell_type": "markdown",
   "metadata": {},
   "source": [
    "## Task 5"
   ]
  },
  {
   "cell_type": "code",
   "execution_count": 86,
   "metadata": {},
   "outputs": [
    {
     "data": {
      "text/plain": [
       "Text(0,0.5,'Variant [kW]')"
      ]
     },
     "execution_count": 86,
     "metadata": {},
     "output_type": "execute_result"
    },
    {
     "data": {
      "image/png": "[encoded data removed]",
      "text/plain": [
       "<matplotlib.figure.Figure at 0x1c508c57080>"
      ]
     },
     "metadata": {},
     "output_type": "display_data"
    }
   ],
   "source": [
    "plt.figure()\n",
    "plt.scatter(y_hat1, y_hat2)\n",
    "plt.xlabel('Base [kW]')\n",
    "plt.ylabel('Variant [kW]')"
   ]
  },
  {
   "cell_type": "markdown",
   "metadata": {},
   "source": [
    "## Task 6"
   ]
  },
  {
   "cell_type": "code",
   "execution_count": 87,
   "metadata": {},
   "outputs": [
    {
     "data": {
      "text/plain": [
       "{'boxes': [<matplotlib.lines.Line2D at 0x1c50a98fef0>,\n",
       "  <matplotlib.lines.Line2D at 0x1c50a9a19e8>],\n",
       " 'caps': [<matplotlib.lines.Line2D at 0x1c50a998940>,\n",
       "  <matplotlib.lines.Line2D at 0x1c50a998d68>,\n",
       "  <matplotlib.lines.Line2D at 0x1c50a9a86d8>,\n",
       "  <matplotlib.lines.Line2D at 0x1c50a9a8b00>],\n",
       " 'fliers': [<matplotlib.lines.Line2D at 0x1c50a9a15f8>,\n",
       "  <matplotlib.lines.Line2D at 0x1c50fa17390>],\n",
       " 'means': [],\n",
       " 'medians': [<matplotlib.lines.Line2D at 0x1c50a9a11d0>,\n",
       "  <matplotlib.lines.Line2D at 0x1c50a9a8f28>],\n",
       " 'whiskers': [<matplotlib.lines.Line2D at 0x1c50a998080>,\n",
       "  <matplotlib.lines.Line2D at 0x1c50a998518>,\n",
       "  <matplotlib.lines.Line2D at 0x1c50a9a1e48>,\n",
       "  <matplotlib.lines.Line2D at 0x1c50a9a82b0>]}"
      ]
     },
     "execution_count": 87,
     "metadata": {},
     "output_type": "execute_result"
    },
    {
     "data": {
      "image/png": "[encoded data removed]",
      "text/plain": [
       "<matplotlib.figure.Figure at 0x1c508c54588>"
      ]
     },
     "metadata": {},
     "output_type": "display_data"
    }
   ],
   "source": [
    "plt.figure()\n",
    "plt.boxplot([(y_hat1-y), (y_hat2-y)])"
   ]
  },
  {
   "cell_type": "markdown",
   "metadata": {},
   "source": [
    "## Task 7\n",
    "\n",
    "I am using Budeanu's definition of reactive power."
   ]
  },
  {
   "cell_type": "code",
   "execution_count": 129,
   "metadata": {},
   "outputs": [
    {
     "data": {
      "image/png": "[encoded data removed]",
      "text/plain": [
       "<matplotlib.figure.Figure at 0x1c5007858d0>"
      ]
     },
     "metadata": {},
     "output_type": "display_data"
    },
    {
     "data": {
      "image/png": "[encoded data removed]",
      "text/plain": [
       "<matplotlib.figure.Figure at 0x1c50fa20198>"
      ]
     },
     "metadata": {},
     "output_type": "display_data"
    }
   ],
   "source": [
    "def computePQ(cur, volt):\n",
    "    low = 0\n",
    "    \n",
    "    volt = np.convolve(volt, np.ones((5,))/5, mode=\"same\")\n",
    "    cur = np.convolve(cur, np.ones((5,))/5, mode=\"same\")\n",
    "    instant_power = cur*volt\n",
    "    counter=0\n",
    "    lower=0\n",
    "    allpowers = []\n",
    "    for i in range(len(volt)-1):\n",
    "        if volt[i]<0 and volt[i]*volt[i+1]<=0:\n",
    "            \n",
    "            power = cur[low:i]*volt[low:i]\n",
    "            subs = np.min([len(power), 500])\n",
    "            power_ele = np.zeros((500))\n",
    "            power_ele[:subs] = power[:subs]\n",
    "            allpowers.append(power_ele)\n",
    "            low = i\n",
    "    values = np.fft.fft(allpowers)\n",
    "#     print(values[0,:1])\n",
    "    plt.figure()\n",
    "    plt.title('Instantaneous Power')\n",
    "    plt.plot(instant_power)\n",
    "    plt.figure()\n",
    "    plt.plot(np.mean(np.real(values[:,:2]),axis=1), label='active power')\n",
    "    plt.plot(np.mean(np.imag(values[:,:2]),axis=1), label='reactive power')\n",
    "    plt.plot(xlabel='cycles')\n",
    "    plt.legend()\n",
    "\n",
    "    \n",
    "data = np.loadtxt('116.csv', delimiter=',')\n",
    "computePQ(data[:,0],data[:,1])"
   ]
  },
  {
   "cell_type": "code",
   "execution_count": null,
   "metadata": {
    "collapsed": true
   },
   "outputs": [],
   "source": []
  }
 ],
 "metadata": {
  "anaconda-cloud": {},
  "kernelspec": {
   "display_name": "Python 3",
   "language": "python",
   "name": "python3"
  },
  "language_info": {
   "codemirror_mode": {
    "name": "ipython",
    "version": 3
   },
   "file_extension": ".py",
   "mimetype": "text/x-python",
   "name": "python",
   "nbconvert_exporter": "python",
   "pygments_lexer": "ipython3",
   "version": "3.6.3"
  }
 },
 "nbformat": 4,
 "nbformat_minor": 1
}
