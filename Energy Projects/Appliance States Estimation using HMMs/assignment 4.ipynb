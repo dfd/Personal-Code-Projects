{
 "cells": [
  {
   "cell_type": "markdown",
   "metadata": {},
   "source": [
    "# Assignment 4\n",
    "## Task 1\n",
    "If you were to create a HMM for 22 two-state appliances, how much memory would your computer need if you wanted to fit the state-transition probability matrix into main memory with 4 byte precision? \n",
    "\n",
    "Answer: around 70 terra bytes"
   ]
  },
  {
   "cell_type": "markdown",
   "metadata": {},
   "source": [
    "## What was given:"
   ]
  },
  {
   "cell_type": "code",
   "execution_count": 2,
   "metadata": {},
   "outputs": [
    {
     "data": {
      "text/plain": [
       "\"\\nThe map function makes accessing the trans_prob's easy:\\n\\nLet's say you want p(z_t = (1,1) | z_t-1 = (0,1))\\nThis is just:\\n\\ntrans_prob[map1['0,1']][map1['1,1']]\\n\""
      ]
     },
     "execution_count": 2,
     "metadata": {},
     "output_type": "execute_result"
    }
   ],
   "source": [
    "import numpy as np\n",
    "import matplotlib.pyplot as plt\n",
    "%matplotlib inline\n",
    "\n",
    "map1 = {'0,0':0, '1,0':1, '0,1':2, '1,1':3}\n",
    "map2 = {0:'0,0', 1:'1,0', 2:'0,1', 3:'1,1'}\n",
    "states = ['0,0', '1,0', '0,1', '1,1']\n",
    "\n",
    "mu = {'0,0':1, '1,0':50, '0,1':55, '1,1':105}\n",
    "sigma = {'0,0':0.1, '1,0':5.1, '0,1':6.1, '1,1':11.1}\n",
    "\n",
    "trans_prob = [[0.8, 0.19, 0.01, 0], [0.32, 0.6, 0, 0.08], [0.1, 0, 0.7, 0.2], [0, 0.13,0.5, 0.37]]\n",
    "initial_prob = [0.25, 0.25, 0.25, 0.25]\n",
    "\n",
    "'''\n",
    "The map function makes accessing the trans_prob's easy:\n",
    "\n",
    "Let's say you want p(z_t = (1,1) | z_t-1 = (0,1))\n",
    "This is just:\n",
    "\n",
    "trans_prob[map1['0,1']][map1['1,1']]\n",
    "'''\n"
   ]
  },
  {
   "cell_type": "markdown",
   "metadata": {},
   "source": [
    "## Task 2"
   ]
  },
  {
   "cell_type": "code",
   "execution_count": 42,
   "metadata": {},
   "outputs": [
    {
     "name": "stdout",
     "output_type": "stream",
     "text": [
      "['0,1', '0,1', '0,0', '0,0', '0,0', '0,0', '0,0', '0,0', '0,0', '1,0', '0,0', '0,0', '0,0', '0,0', '0,0', '0,0', '0,0', '0,0', '0,0', '0,0', '0,0', '0,0', '0,0', '0,0', '0,0', '0,0', '0,0', '1,0', '0,0', '0,0', '0,0', '0,0', '0,0', '1,0', '0,0', '0,0', '0,0', '0,0', '0,0', '0,0', '0,0', '0,0', '0,0', '0,0', '1,0', '1,0', '1,0', '1,0', '1,0', '1,0', '0,0', '1,0', '0,0', '0,0', '0,0', '0,0', '0,0', '0,0', '1,0', '1,0', '1,0', '0,0', '0,0', '0,0', '0,0', '0,0', '0,0', '0,0', '1,0', '1,0', '1,0', '1,0', '1,0', '1,0', '1,0', '1,0', '1,1', '1,1', '0,1', '0,1', '1,1', '0,1', '0,1', '0,1', '0,0', '1,0', '1,0', '0,0', '0,0', '0,0', '0,0', '0,0', '0,0', '0,0', '0,0', '1,0', '1,0', '1,1', '1,1', '1,1']\n",
      "[45.17019739566273, 51.2381206049318, 1.0240402193864884, 0.9856875220237169, 0.990331228998422, 1.006644212525503, 0.9809826648776314, 1.0074747968278441, 1.1013149975646148, 42.131101520213214, 0.8292835023492124, 0.967031324884251, 1.1108343291728113, 0.876633914259869, 0.9279477769110602, 1.0832349629942666, 1.0316246908053979, 0.9109796362083108, 0.8612632629853587, 1.0094346115346788, 1.024105898187828, 0.7012629878650873, 1.0634927129877547, 1.1651060697777413, 1.0088902428714555, 1.0278394822528492, 1.0044712671980727, 56.703472845778116, 0.7356468192277377, 1.1738033165489437, 1.020406323147973, 0.8735047960721017, 0.9015652134386832, 45.009475015144915, 1.0702114588908955, 1.1327986148201374, 1.1510660292372228, 1.0081433097615398, 1.0329701498135158, 1.1607051453076382, 0.9016207361171616, 1.0511172748400786, 0.9583645634639136, 0.8860188798066154, 49.603150227287045, 47.69516627147978, 50.902299613386106, 49.54962957984263, 53.66806961053468, 51.79087875564908, 0.9493849048846693, 51.5298625056835, 0.7966735623008026, 1.169460671843132, 0.8147904703610113, 1.0031075099688407, 1.1095335079625628, 0.8669809976219109, 47.25268401859476, 49.55731891841493, 39.27568519926469, 0.9969371089790527, 0.9019751176353399, 0.8752857578619596, 0.9673014083085645, 1.1070778746922083, 1.1461084041185372, 0.9539601419080305, 42.09837755503533, 42.185961718937946, 54.17952252696136, 58.004001602176935, 54.02411153587025, 59.21582532073036, 49.717498399487425, 48.51022740340009, 98.21017187771136, 121.45344188837018, 49.84395557767489, 50.28489590665631, 98.06505483191897, 62.220975481122785, 52.85607471515052, 58.32608516256432, 1.021896235108141, 50.72265037206371, 50.23624486818306, 1.0938141821830425, 0.9654798197764156, 1.0589460166156721, 0.9110193386886422, 0.9139765670115061, 0.9988001348047598, 0.975812915422996, 0.8074933980950566, 37.56622934269948, 49.33965358053888, 90.76793641181285, 99.3322974109501, 121.30525156111013]\n"
     ]
    }
   ],
   "source": [
    "#Solution:\n",
    "z = [np.random.choice(states, p=initial_prob)]\n",
    "\n",
    "for _ in range(99):\n",
    "    z.append(np.random.choice(states, p=trans_prob[map1[z[-1]]]))\n",
    "print(z)\n",
    "\n",
    "x = []\n",
    "for i in range(100):\n",
    "    x.append(np.random.normal(mu[z[i]], sigma[z[i]]))\n",
    "\n",
    "print(x)"
   ]
  },
  {
   "cell_type": "markdown",
   "metadata": {},
   "source": [
    "## Task 3"
   ]
  },
  {
   "cell_type": "code",
   "execution_count": 48,
   "metadata": {},
   "outputs": [
    {
     "data": {
      "text/plain": [
       "2.721358776857677e-109"
      ]
     },
     "execution_count": 48,
     "metadata": {},
     "output_type": "execute_result"
    }
   ],
   "source": [
    "import scipy.stats\n",
    "\n",
    "prob = 0.25\n",
    "\n",
    "for i in range(99):\n",
    "    prob *= trans_prob[map1[z[i]]][map1[z[i+1]]]\n",
    "    \n",
    "for i in range(100):\n",
    "    prob *= scipy.stats.norm(mu[z[i]], np.sqrt(sigma[z[i]])).pdf(x[i])\n",
    "    \n",
    "prob\n",
    "    \n",
    "#a better solution is to add log-probs"
   ]
  },
  {
   "cell_type": "markdown",
   "metadata": {},
   "source": [
    "## Task 4"
   ]
  },
  {
   "cell_type": "code",
   "execution_count": 49,
   "metadata": {},
   "outputs": [
    {
     "data": {
      "text/plain": [
       "[<matplotlib.lines.Line2D at 0x1c19a1670f0>]"
      ]
     },
     "execution_count": 49,
     "metadata": {},
     "output_type": "execute_result"
    },
    {
     "data": {
      "image/png": "[encoded data removed]",
      "text/plain": [
       "<matplotlib.figure.Figure at 0x1c1977bce48>"
      ]
     },
     "metadata": {},
     "output_type": "display_data"
    }
   ],
   "source": [
    "plt.plot(x)"
   ]
  },
  {
   "cell_type": "markdown",
   "metadata": {},
   "source": [
    "## Task 5"
   ]
  },
  {
   "cell_type": "code",
   "execution_count": 59,
   "metadata": {},
   "outputs": [
    {
     "data": {
      "text/plain": [
       "(100, 4)"
      ]
     },
     "execution_count": 59,
     "metadata": {},
     "output_type": "execute_result"
    }
   ],
   "source": [
    "def gauss(x, mu, sig):\n",
    "    return 1/(np.sqrt(2*np.pi)*sig)*np.exp(-0.5*(float(x-mu)/sig)**2)\n",
    "\n",
    "# Solution:\n",
    "P1 = []\n",
    "for x_val in x:\n",
    "    slc = []\n",
    "    for s in states:\n",
    "        slc.append(gauss(x_val, mu[s], sigma[s]))\n",
    "    P1.append(slc)\n",
    "P1 = np.array(P1)\n",
    "\n",
    "P1 = P1/np.sum(P1, axis=1).reshape(-1, 1)\n",
    "P1.shape"
   ]
  },
  {
   "cell_type": "code",
   "execution_count": 69,
   "metadata": {
    "scrolled": true
   },
   "outputs": [
    {
     "data": {
      "text/plain": [
       "<matplotlib.image.AxesImage at 0x1c19b346748>"
      ]
     },
     "execution_count": 69,
     "metadata": {},
     "output_type": "execute_result"
    },
    {
     "data": {
      "image/png": "[encoded data removed]",
      "text/plain": [
       "<matplotlib.figure.Figure at 0x1c19a322748>"
      ]
     },
     "metadata": {},
     "output_type": "display_data"
    }
   ],
   "source": [
    "plt.imshow(P1.T, aspect=\"auto\", interpolation=\"nearest\")"
   ]
  },
  {
   "cell_type": "markdown",
   "metadata": {},
   "source": [
    "## Task 6/7/8"
   ]
  },
  {
   "cell_type": "code",
   "execution_count": 74,
   "metadata": {},
   "outputs": [],
   "source": [
    "def matrixP2(x):\n",
    "    alphas = []\n",
    "    for i in range(len(states)):\n",
    "        alphas.append(initial_prob[i] * gauss(x[0], mu[states[i]], sigma[states[i]]))\n",
    "    \n",
    "    alphalist = [alphas]\n",
    "    for t in range(99):\n",
    "        alphas = alphalist[-1]\n",
    "        newlist = []\n",
    "        for s in states:\n",
    "            alpha_ele = 0\n",
    "            for j in range(len(states)):\n",
    "                alpha_ele += trans_prob[j][map1[s]]*alphas[j]\n",
    "            alpha_ele *= gauss(x[t+1], mu[s], sigma[s])\n",
    "            newlist.append(alpha_ele)\n",
    "        alphalist.append(newlist.copy())\n",
    "    return np.asarray(alphalist)\n",
    "\n",
    "P2 = matrixP2(x)\n"
   ]
  },
  {
   "cell_type": "code",
   "execution_count": 72,
   "metadata": {
    "collapsed": true
   },
   "outputs": [],
   "source": [
    "def matrixP3(P2):\n",
    "    return matrixP2(x,z)/np.sum(matrixP2(x,z), axis=1).reshape(-1,1)\n",
    "\n",
    "P3 = matrixP3(P2)"
   ]
  },
  {
   "cell_type": "code",
   "execution_count": 73,
   "metadata": {},
   "outputs": [
    {
     "data": {
      "text/plain": [
       "<matplotlib.image.AxesImage at 0x1c19b404240>"
      ]
     },
     "execution_count": 73,
     "metadata": {},
     "output_type": "execute_result"
    },
    {
     "data": {
      "image/png": "[encoded data removed]",
      "text/plain": [
       "<matplotlib.figure.Figure at 0x1c19b37af60>"
      ]
     },
     "metadata": {},
     "output_type": "display_data"
    }
   ],
   "source": [
    "plt.imshow(P3.T, aspect=\"auto\", interpolation=\"nearest\")"
   ]
  },
  {
   "cell_type": "code",
   "execution_count": 75,
   "metadata": {
    "scrolled": true
   },
   "outputs": [
    {
     "data": {
      "text/plain": [
       "<matplotlib.image.AxesImage at 0x1c19b461860>"
      ]
     },
     "execution_count": 75,
     "metadata": {},
     "output_type": "execute_result"
    },
    {
     "data": {
      "image/png": "[encoded data removed]",
      "text/plain": [
       "<matplotlib.figure.Figure at 0x1c19b438320>"
      ]
     },
     "metadata": {},
     "output_type": "display_data"
    }
   ],
   "source": [
    "P0 = []\n",
    "for zt in z:\n",
    "    slc = np.zeros((4,))\n",
    "    slc[map1[zt]] = 1\n",
    "    P0.append(slc)\n",
    "P0 = np.array(P0)\n",
    "\n",
    "plt.imshow(np.array(P0).T, aspect='auto', interpolation='nearest')"
   ]
  },
  {
   "cell_type": "markdown",
   "metadata": {},
   "source": [
    "## Task 9\n",
    "Yes! The posterior of P3 is much sharper than P1 and when comparing to the ground truth, it avoids some of the error that the naive approach makes."
   ]
  },
  {
   "cell_type": "code",
   "execution_count": 80,
   "metadata": {
    "scrolled": true
   },
   "outputs": [],
   "source": [
    "P3_val = np.argmax(P3, axis=1)"
   ]
  },
  {
   "cell_type": "code",
   "execution_count": 81,
   "metadata": {},
   "outputs": [],
   "source": [
    "P0_val = np.argmax(P0, axis=1)"
   ]
  },
  {
   "cell_type": "code",
   "execution_count": 82,
   "metadata": {},
   "outputs": [],
   "source": [
    "P1_val = np.argmax(P1, axis=1)"
   ]
  },
  {
   "cell_type": "code",
   "execution_count": 84,
   "metadata": {},
   "outputs": [
    {
     "data": {
      "text/plain": [
       "(0.98, 0.89)"
      ]
     },
     "execution_count": 84,
     "metadata": {},
     "output_type": "execute_result"
    }
   ],
   "source": [
    "acc_3 = sum(P3_val == P0_val)/len(P3_val)\n",
    "acc_1 = sum(P1_val == P0_val)/len(P1_val)\n",
    "\n",
    "acc_3, acc_1"
   ]
  }
 ],
 "metadata": {
  "anaconda-cloud": {},
  "kernelspec": {
   "display_name": "Python 3",
   "language": "python",
   "name": "python3"
  },
  "language_info": {
   "codemirror_mode": {
    "name": "ipython",
    "version": 3
   },
   "file_extension": ".py",
   "mimetype": "text/x-python",
   "name": "python",
   "nbconvert_exporter": "python",
   "pygments_lexer": "ipython3",
   "version": "3.6.3"
  }
 },
 "nbformat": 4,
 "nbformat_minor": 1
}
