{
 "cells": [
  {
   "cell_type": "markdown",
   "metadata": {},
   "source": [
    "# Introduction\n",
    "\n",
    "In this problem you will be analysing time series data. Specifically, the data that you will be working with has been collecting via Pittsburgh's TrueTime system which is available publicly here http://truetime.portauthority.org/bustime/login.jsp. If you're interested, you can request an API key and collect the data yourself (the process is just submitting a form), however we've already collected some smaller subset of the available data for the purposes of this assignment. "
   ]
  },
  {
   "cell_type": "markdown",
   "metadata": {},
   "source": [
    "## Part 1 TrueTime dataset\n",
    "\n",
    "The bus data has been collected by querying the TrueTime API every minute. Each time, we make two requests: \n",
    "\n",
    "1. We request vehicle information for every bus running on the 61A, 61B, 61C, and 61D bus routes. \n",
    "2. We request all available time predictions for the CMU / Morewood bus stop in both outbound and inbound directions. \n",
    "\n",
    "The results are given as XML, which are consequently parsed and stored within a sqlite database with two tables, one for vehicles and one for predictions. The table for the vehicles is organized in the following manner.  \n",
    "\n",
    "| | **vehicles**             | \n",
    "|----------|-------------|\n",
    "| vid      | vehicle identifier |\n",
    "| tmstmp | date and time of the last positional update of the vehicle |\n",
    "| lat | latitude position of the vehicle in decimal degrees |\n",
    "| lon | longitude position of the vehicle in decimal degrees |\n",
    "| hdg | heading of vehicle as a 360 degree value (0 is north, 90 is east, 180 is south, and 270 is west |\n",
    "| pid | pattern ID of trip currently being executed | \n",
    "| rt | route that is currently being execute | \n",
    "| des | destination of the current trip | \n",
    "| pdist | linear distance (feet) vehicle has traveled into the current pattern |\n",
    "|  spd | speed as reported from the vehicle in miles per hour | \n",
    "| tablockid | TA's version of the scheduled block identifier for work currently behind performed |\n",
    "| tatripid | TA's version of the scheduled trip identifier for the vehicle's current trip |\n",
    "\n",
    "The table for the predictions is organized in the following manner\n",
    "\n",
    "| | **predictions** | \n",
    "|---|---|\n",
    "| tmstmp | date and time the prediction was generated |\n",
    "| typ | type of prediction (A for arrival, D for a departure) | \n",
    "| stpnm | display name of the stop for which this prediction was generated |\n",
    "| stpid | unique identifier representing the stop for which this prediction was generated |\n",
    "| vid | unique ID of the vehicle for which this prediction was generated |\n",
    "| dstp | linear distance (feet) left to be traveled by the vehicle before it reaches the stop for which this prediction was generated |\n",
    "| rt | route for which this prediction was generated | \n",
    "| rtdd | language-specific route designator meant for display |\n",
    "| rtdir | direction of travel of the route associated with this prediction |\n",
    "| des | final destination of the vehicle associated with this prediction |\n",
    "| prdtm | predicted date and time of a vehicle's arrival or departure to the stop associated with this prediction | \n",
    "| dly | true if the vehicle is delayed, only present if the vehicle that generated this prediction is delayed | \n",
    "| tablockid | TA's version of the scheduled block identifier for work currently behind performed |\n",
    "| tatripid | TA's version of the scheduled trip identifier for the vehicle's current trip |\n",
    "    "
   ]
  },
  {
   "cell_type": "markdown",
   "metadata": {},
   "source": [
    "First you will need to read in the data. We have dumped the raw form of the data into a sqlite database, which you can read directly into a pandas dataframe. \n",
    "\n",
    "Since this data has not been processed at all by the course staff, you will need to fix and canonicalize a few things. \n",
    "\n",
    "### Specification\n",
    "\n",
    "1. Sometimes the TrueTime API returns a bogus result that has all the attributes but empty strings for all the values. You should inspect the data for clearly useless entries and remove all offending rows. \n",
    "\n",
    "2. If you check the datatype of each column, you'll notice that most columns are stored as objects. However, some of these columns are in fact integers or floats, and if you wish to run numerical functions on them (like with numpy) you'll need to convert the columns to the correct type. Note that strings show up as objects. This is because the underlying implementation of Pandas uses numpy arrays, which need fixed-size entries, so they store pointers to strings. Your dataframe datatypes should match the following order and types (your datatypes may be 32bit instead of 64bit depending on your platform): \n",
    "\n",
    "   ```python\n",
    "   >>> vdf.dtypes\n",
    "   vid                   int64\n",
    "   tmstmp       datetime64[ns]\n",
    "   lat                 float64\n",
    "   lon                 float64\n",
    "   hdg                   int64\n",
    "   pid                   int64\n",
    "   rt                   object\n",
    "   des                  object\n",
    "   pdist                 int64\n",
    "   spd                   int64\n",
    "   tablockid            object\n",
    "   tatripid              int64\n",
    "   dtype: object\n",
    "\n",
    "   >>> pdf.dtypes\n",
    "   tmstmp       datetime64[ns]\n",
    "   typ                  object\n",
    "   stpnm                object\n",
    "   stpid                 int64\n",
    "   vid                   int64\n",
    "   dstp                  int64\n",
    "   rt                   object\n",
    "   rtdd                 object\n",
    "   rtdir                object\n",
    "   des                  object\n",
    "   prdtm        datetime64[ns]\n",
    "   dly                    bool\n",
    "   tablockid            object\n",
    "   tatripid              int64\n",
    "   dtype: object\n",
    "   ```\n",
    "\n",
    "3. As you may have noticed from the above data types, you should convert all timestamps to Pandas datetime objects. "
   ]
  },
  {
   "cell_type": "code",
   "execution_count": 1,
   "metadata": {
    "collapsed": true
   },
   "outputs": [],
   "source": [
    "import pandas as pd\n",
    "import sqlite3"
   ]
  },
  {
   "cell_type": "code",
   "execution_count": 2,
   "metadata": {
    "collapsed": true,
    "scrolled": false
   },
   "outputs": [],
   "source": [
    "def load_data(fname):\n",
    "    \"\"\" Read the given database into two pandas dataframes. \n",
    "    \n",
    "    Args: \n",
    "        fname (string): filename of sqlite3 database to read\n",
    "        \n",
    "    Returns:\n",
    "        (pd.DataFrame, pd.DataFrame): a tuple of two dataframes, the first for the vehicle data and the \n",
    "                                      second for the prediction data. \n",
    "    \"\"\"\n",
    "    con = sqlite3.connect(fname)\n",
    "    cur = con.cursor()\n",
    "    vdf = pd.read_sql('SELECT * FROM vehicles', con=con)\n",
    "    pdf = pd.read_sql('SELECT * FROM predictions', con=con)\n",
    "    \n",
    "    \n",
    "    vdf = vdf[vdf['tmstmp']!='']\n",
    "    vdf[['vid','hdg','pid','pdist','spd','tatripid']] = vdf[['vid','hdg','pid','pdist','spd','tatripid']].astype(int)\n",
    "    vdf[['lat','lon']] = vdf[['lat','lon']].apply(pd.to_numeric)\n",
    "    vdf['tmstmp'] =  pd.to_datetime(vdf['tmstmp'])\n",
    "    \n",
    "\n",
    "    pdf = pdf[pdf['tmstmp']!='']\n",
    "    pdf[['stpid','vid','dstp','tatripid']] = pdf[['stpid','vid','dstp','tatripid']].astype(int)\n",
    "    pdf['tmstmp'] =  pd.to_datetime(pdf['tmstmp'])\n",
    "    pdf['prdtm'] =  pd.to_datetime(pdf['prdtm'])\n",
    "    pdf['dly'] = pdf['dly'].astype('bool')\n",
    "    \n",
    "    \n",
    "    return vdf, pdf\n",
    "    \n"
   ]
  },
  {
   "cell_type": "code",
   "execution_count": 3,
   "metadata": {
    "scrolled": true
   },
   "outputs": [
    {
     "name": "stdout",
     "output_type": "stream",
     "text": [
      "    vid              tmstmp        lat        lon  hdg   pid   rt        des  \\\n",
      "0  5549 2016-08-11 10:56:00  40.439504 -79.996981  114  4521  61A  Swissvale   \n",
      "1  5287 2016-08-11 10:56:00  40.438016 -79.927380   83  4521  61A  Swissvale   \n",
      "2  6114 2016-08-11 10:56:00  40.418897 -79.883970  128  4521  61A  Swissvale   \n",
      "3  5646 2016-08-11 10:56:00  40.441155 -79.892990  274  4663  61A   Downtown   \n",
      "4  5443 2016-08-11 10:56:00  40.436370 -79.968362  269  4663  61A   Downtown   \n",
      "\n",
      "   pdist  spd tablockid  tatripid  \n",
      "0   1106    0  061A-164      6691  \n",
      "1  22921   20  061A-163      6687  \n",
      "2  48014   12  061A-162      6683  \n",
      "3  15953   23  061A-166      6433  \n",
      "4  40770   30  061A-165      6430  \n",
      "vid                   int32\n",
      "tmstmp       datetime64[ns]\n",
      "lat                 float64\n",
      "lon                 float64\n",
      "hdg                   int32\n",
      "pid                   int32\n",
      "rt                   object\n",
      "des                  object\n",
      "pdist                 int32\n",
      "spd                   int32\n",
      "tablockid            object\n",
      "tatripid              int32\n",
      "dtype: object\n"
     ]
    }
   ],
   "source": [
    "# AUTOLAB_IGNORE_START\n",
    "vdf,pdf = load_data('bus_aug23.db')\n",
    "vdf.head()\n",
    "# AUTOLAB_IGNORE_STOP"
   ]
  },
  {
   "cell_type": "markdown",
   "metadata": {},
   "source": [
    "## Part 2 Splitting Trips\n",
    "\n",
    "For this assignment, we will focus on the vehicles dataframe and come back to the predictions later. The next thing we will do is take the dataframe of vehicles and and split it into individual trips. Specifically, a trip is the sequence of rows corresponding to a single bus, typically at one minute intervals, from the start of its route to the end of its route. We will represent each trip as an individual dataframe, and create a list of trip dataframes to represent all the trips.\n",
    "\n",
    "### Specification\n",
    "1. All entries in a trip should belong to a single route, destination, pattern, and vehicle.\n",
    "\n",
    "2. The entries in a trip should have (not strictly) monotonically increasing timestamps and distance traveled. \n",
    "\n",
    "3. Each trip should be of maximal size. I.e. you should sort first by time, and secondarily by pdist, and use a drop in a pdist as an indication that a new trip has started. \n",
    "\n",
    "3. Each trip should have the timestamp set as the index, named `tmstmp`"
   ]
  },
  {
   "cell_type": "code",
   "execution_count": 9,
   "metadata": {
    "collapsed": true
   },
   "outputs": [],
   "source": [
    "# vdf.sort_values(['rt','des','vid','pid','tmstmp','pdist']).to_csv(\"vdf.csv\")"
   ]
  },
  {
   "cell_type": "code",
   "execution_count": 11,
   "metadata": {
    "collapsed": true
   },
   "outputs": [],
   "source": [
    "def split_trips(df):\n",
    "    \"\"\" Splits the dataframe of vehicle data into a list of dataframes for each individual trip. \n",
    "    \n",
    "    Args: \n",
    "        df (pd.DataFrame): A dataframe containing vehicle data\n",
    "        \n",
    "    Returns: \n",
    "        (list): A list of dataframes, where each dataFrame contains vehicle data for a single trip\n",
    "    \"\"\"\n",
    "\n",
    "\n",
    "    nl = []\n",
    "    df = df.sort_values(['rt','des','pid','vid','tmstmp','pdist'])\n",
    "    df = df.reset_index(drop=True)\n",
    "    si = -1\n",
    "    ei = -1\n",
    "#     nl_ele = pd.DataFrame(columns=['vid','tmstmp','lat','lon','hdg','pid','rt','des','pdist','spd','tablockid','tatripid'])\n",
    "    for i in range(len(df)):\n",
    "        if i == 0:\n",
    "            si = 0\n",
    "            ei = 0\n",
    "        \n",
    "        elif i!=0 and i!=len(df)-1 and df.iloc[i-1,8]<=df.iloc[i,8] and df.iloc[i-1,1]<=df.iloc[i,1] and df.iloc[i-1,0]==df.iloc[i,0] and df.iloc[i-1,5]==df.iloc[i,5] and df.iloc[i-1,6]==df.iloc[i,6] and df.iloc[i-1,7]==df.iloc[i,7]:\n",
    "            ei += 1\n",
    "        \n",
    "        elif i == len(df)-1:\n",
    "            nl.append(df.iloc[si:,:])\n",
    "\n",
    "        \n",
    "        else:\n",
    "            nl.append(df.iloc[si:ei+1,:])\n",
    "            ei+=1\n",
    "            si=ei\n",
    "        \n",
    "\n",
    "            \n",
    "    for i in range(len(nl)):\n",
    "        nl[i].set_index('tmstmp')\n",
    "            \n",
    "    return nl\n",
    "\n",
    "# AUTOLAB_IGNORE_START\n",
    "all_trips = { rt : split_trips(vdf[vdf[\"rt\"]==rt]) for rt in [\"61A\", \"61B\", \"61C\", \"61D\"] }\n",
    "# AUTOLAB_IGNORE_STOP"
   ]
  },
  {
   "cell_type": "markdown",
   "metadata": {},
   "source": [
    "You should verify that your code meets the specification above. Use this cell to write tests that check the validity of your resulting output. For example,you should test that the total number of datapoints in the list of dataframes is the same as the number of datapoints in the original dataframe. "
   ]
  },
  {
   "cell_type": "code",
   "execution_count": 12,
   "metadata": {},
   "outputs": [
    {
     "name": "stdout",
     "output_type": "stream",
     "text": [
      "    vid              tmstmp        lat        lon  hdg   pid   rt        des  \\\n",
      "0  5549 2016-08-11 10:56:00  40.439504 -79.996981  114  4521  61A  Swissvale   \n",
      "1  5287 2016-08-11 10:56:00  40.438016 -79.927380   83  4521  61A  Swissvale   \n",
      "2  6114 2016-08-11 10:56:00  40.418897 -79.883970  128  4521  61A  Swissvale   \n",
      "3  5646 2016-08-11 10:56:00  40.441155 -79.892990  274  4663  61A   Downtown   \n",
      "4  5443 2016-08-11 10:56:00  40.436370 -79.968362  269  4663  61A   Downtown   \n",
      "\n",
      "   pdist  spd tablockid  tatripid  \n",
      "0   1106    0  061A-164      6691  \n",
      "1  22921   20  061A-163      6687  \n",
      "2  48014   12  061A-162      6683  \n",
      "3  15953   23  061A-166      6433  \n",
      "4  40770   30  061A-165      6430  \n"
     ]
    }
   ],
   "source": [
    "# Test the validity of your code here\n",
    "# AUTOLAB_IGNORE_START  \n",
    "\n",
    "# AUTOLAB_IGNORE_STOP"
   ]
  },
  {
   "cell_type": "markdown",
   "metadata": {},
   "source": [
    "## Part 3 Sliding Averages\n",
    "\n",
    "Let's compute a basic statistic for time series / sequential data, which is the sliding average. Sliding averages are typically used to smooth out short-term fluctuations to see the long-term patterns. \n",
    "\n",
    "While it would be fairly simple to directly construct a list of all the sliding averages from the existing dataset, in reality, new TrueTime bus data is constantly becoming available. We want to avoid recomputing all the sliding averages every time a new data point comes in. Thus, instead of storing an unbounded list of datapoints, we will construct a class which does constant time updates as new data comes in. \n",
    "\n",
    "### Specifications\n",
    "1. Your function should not use more than O(k) memory, where k is the number of elements to average. \n",
    "2. Each update should do O(1) work. \n",
    "3. We will use a centered sliding average: we will average the k values both before and after the center point, averaging a total of 2k+1 elements. Note that k=0 will just return the stream without any averaging. \n",
    "4. Since the average depends on both past and future elements, the `update` function will not be able to output anything useful for the first k elements. You should output `None` during these iterations. We suggest you signify the end of the stream by calling `update(None)` k times, during which you should output the last k sliding averages. \n",
    "4. When at the beginning or end of a list, just compute the average of elements that exist. \n",
    "5. As usual, you should test the correctness of your code. You can do this in the same cell or make a new cell.\n",
    "\n",
    "Note: you may find the `collections.deque` data structure to be helpful. \n",
    "\n",
    "Example: \n",
    "```python\n",
    ">>> compute_sliding_averages(pd.Series([1,2,3,4,5]),1)\n",
    "pdf.Series([1.5, 2.0, 3.0, 4.0, 4.5])\n",
    "```"
   ]
  },
  {
   "cell_type": "code",
   "execution_count": 13,
   "metadata": {
    "scrolled": true
   },
   "outputs": [
    {
     "name": "stdout",
     "output_type": "stream",
     "text": [
      "0    2.5\n",
      "1    3.0\n",
      "2    3.0\n",
      "3    3.0\n",
      "4    3.5\n",
      "dtype: float64\n"
     ]
    },
    {
     "name": "stderr",
     "output_type": "stream",
     "text": [
      "C:\\Anaconda3\\lib\\site-packages\\ipykernel_launcher.py:82: FutureWarning: set_value is deprecated and will be removed in a future release. Please use .at[] or .iat[] accessors instead\n",
      "C:\\Anaconda3\\lib\\site-packages\\ipykernel_launcher.py:90: FutureWarning: set_value is deprecated and will be removed in a future release. Please use .at[] or .iat[] accessors instead\n"
     ]
    }
   ],
   "source": [
    "from collections import deque\n",
    "\n",
    "class SlidingAverage:\n",
    "    def __init__(self,k):\n",
    "        \"\"\" Initializes a sliding average calculator which keeps track of the average of the last k seen elements. \n",
    "        \n",
    "        Args: \n",
    "            k (int): the number of elements to average (the half-width of the sliding average window)\n",
    "        \"\"\"\n",
    "        \n",
    "        self.k = k\n",
    "        self.window = deque()\n",
    "        for i in range(2*k+1):\n",
    "            self.window.append(None)\n",
    "        self.sumbetween = 0\n",
    "        self.counter = 0\n",
    "        \n",
    "        \n",
    "        \n",
    "    def update(self,x):\n",
    "        \"\"\" Computes the sliding average after having seen element x \n",
    "        \n",
    "        Args:\n",
    "            x (float): the next element in the stream to view\n",
    "            \n",
    "        Returns: \n",
    "            (float): the new sliding average after having seen element x, if it can be calculated\n",
    "        \"\"\"\n",
    "        \n",
    "        if self.counter < self.k and x!=None:\n",
    "            self.sumbetween += x\n",
    "            self.counter+=1\n",
    "            self.window.popleft()\n",
    "            self.window.append(x)\n",
    "            return None\n",
    "\n",
    "        \n",
    "        elif self.counter < 2*self.k+1 and x!=None:\n",
    "            self.sumbetween += x\n",
    "            self.counter+=1\n",
    "            self.window.popleft()\n",
    "            self.window.append(x)\n",
    "            return self.sumbetween/self.counter\n",
    "        \n",
    "        elif self.counter == 2*self.k+1 and x!=None:\n",
    "            pop = self.window.popleft()\n",
    "            self.sumbetween = self.sumbetween-pop+x\n",
    "            self.window.append(x)\n",
    "            return self.sumbetween/self.counter\n",
    "            \n",
    "        elif self.counter <= 2*self.k+1 and x == None:\n",
    "            pop = self.window.popleft()\n",
    "            if pop != None:\n",
    "                self.sumbetween = self.sumbetween-pop\n",
    "                self.counter = self.counter-1\n",
    "            return self.sumbetween/self.counter\n",
    "         \n",
    "        \n",
    "        \n",
    "    \n",
    "\n",
    "def compute_sliding_averages(s, k):\n",
    "    \"\"\" Computes the sliding averages for a given Pandas series using the SlidingAverage class. \n",
    "    \n",
    "    Args:\n",
    "        s (pd.Series): a Pandas series for which the sliding average needs to be calculated\n",
    "        k (int): the half-width of the sliding average window \n",
    "        \n",
    "    Returns:\n",
    "        (pd.Series): a Pandas series of the sliding averages\n",
    "    \n",
    "    \"\"\"\n",
    "    a = pd.Series([])\n",
    "    l = len(s)\n",
    "    sa = SlidingAverage(k)\n",
    "    \n",
    "    count = 0\n",
    "    for num in s:\n",
    "        new_s = sa.update(num)\n",
    "        if new_s != None:\n",
    "            count+=1\n",
    "            a = a.set_value(count-1, new_s)\n",
    "            if count==l:\n",
    "                return a\n",
    "    for i in range(k):\n",
    "        if count==l:\n",
    "            return a\n",
    "        new_s = sa.update(None)\n",
    "        count+=1\n",
    "        a = a.set_value(count-1, new_s)\n",
    "    return a\n",
    "\n",
    "\n",
    "\n",
    "# Test your code!\n",
    "# AUTOLAB_IGNORE_START\n",
    "b = pd.Series([1,2,3,4,5])\n",
    "new = compute_sliding_averages(b, 3)\n",
    "# for i in range(len(b)):\n",
    "#     print(b[i])\n",
    "print(new)\n",
    "# AUTOLAB_IGNORE_STOP"
   ]
  },
  {
   "cell_type": "markdown",
   "metadata": {},
   "source": [
    "## Part 4 Time Series Visualizations\n",
    "\n",
    "Time series data is typically displayed as signals over time. For example, this could be the speed of the bus over time, or the number of minutes behind or ahead of schedule a bus is. "
   ]
  },
  {
   "cell_type": "code",
   "execution_count": 14,
   "metadata": {
    "collapsed": true
   },
   "outputs": [],
   "source": [
    "import matplotlib\n",
    "# Use svg backend for better quality\n",
    "# AUTOLAB_IGNORE_START\n",
    "matplotlib.use(\"svg\")\n",
    "# AUTOLAB_IGNORE_STOP\n",
    "import matplotlib.pyplot as plt\n",
    "# AUTOLAB_IGNORE_START\n",
    "%matplotlib inline\n",
    "plt.style.use('ggplot')\n",
    "matplotlib.rcParams['figure.figsize'] = (10.0, 5.0) # you should adjust this to fit your screen\n",
    "# AUTOLAB_IGNORE_STOP"
   ]
  },
  {
   "cell_type": "markdown",
   "metadata": {},
   "source": [
    "As the first example, you'll plot the speed of the bus as a function of time. Here, we'll overlay multiple routes on a single plot. Can you determine the direction of the bus (to or away from downtown) from the signal? \n",
    "\n",
    "### Specification:\n",
    "1. Plot the sliding average speed of each bus, using a new line for each bus. \n",
    "2. Return a list of the resulting `Line2D` objects plot. The order of the line objects should correspond with the order of the trips. \n",
    "3. Do not call `plt.show()` inside the function. Autolab will not X out of any plotted images. \n",
    "4. We want you to plot the bus as a function of time, and not of datetime (these are different python types) which is the index of your dataframe. You can get the time with df.index.time. "
   ]
  },
  {
   "cell_type": "code",
   "execution_count": 15,
   "metadata": {},
   "outputs": [
    {
     "name": "stderr",
     "output_type": "stream",
     "text": [
      "C:\\Anaconda3\\lib\\site-packages\\ipykernel_launcher.py:90: FutureWarning: set_value is deprecated and will be removed in a future release. Please use .at[] or .iat[] accessors instead\n",
      "C:\\Anaconda3\\lib\\site-packages\\ipykernel_launcher.py:82: FutureWarning: set_value is deprecated and will be removed in a future release. Please use .at[] or .iat[] accessors instead\n"
     ]
    },
    {
     "data": {
      "image/png": "[encoded data removed]",
      "text/plain": [
       "<matplotlib.figure.Figure at 0x14504af1550>"
      ]
     },
     "metadata": {},
     "output_type": "display_data"
    }
   ],
   "source": [
    "def plot_trip(trips, k):\n",
    "    \"\"\" Plots the sliding average speed as a function of time \n",
    "    \n",
    "    Args: \n",
    "        trip (list): list of trip DataFrames to plot\n",
    "        k (int): the half-width of the sliding average window\n",
    "    \"\"\"\n",
    "    fig, ax = plt.subplots()\n",
    "    \n",
    "    l = []\n",
    "    for i in range(len(trips)):\n",
    "        l.append(plt.plot(trips[i][\"tmstmp\"].dt.time, compute_sliding_averages(trips[i][\"spd\"], k)))\n",
    "    return l\n",
    "    \n",
    "# Play around with these values. Can you differentiate the buses going towards downtown from the buses going away from downtown?\n",
    "# AUTOLAB_IGNORE_START\n",
    "lines = plot_trip(all_trips['61A'][:20], 15)\n",
    "plt.show()\n",
    "\n",
    "# AUTOLAB_IGNORE_STOP"
   ]
  },
  {
   "cell_type": "markdown",
   "metadata": {
    "scrolled": true
   },
   "source": [
    "We can also gain information from overall trends from averaging many data points. In the following function, you will plot the average speed of all buses at regular time intervals throughout the day. \n",
    "\n",
    "### Specification\n",
    "1. You should group the rows of the dataframe by taking the timestamp modulo t and ignoring the day/month/year (since the data was collected at 1 minute intervals, this means that t=1 corresponds to averaging one entry per day recorded).\n",
    "2. Return the PathCollection object of your plot. For example, if you create the plot using the matplotlib command `scatter(...)`, return the result of this function call. \n",
    "3. Do not call `plt.show()` inside the function. Autolab will not X out of any plotted images. "
   ]
  },
  {
   "cell_type": "code",
   "execution_count": 39,
   "metadata": {
    "scrolled": true
   },
   "outputs": [
    {
     "data": {
      "image/png": "[encoded data removed]",
      "text/plain": [
       "<matplotlib.figure.Figure at 0x14504a4ffd0>"
      ]
     },
     "metadata": {},
     "output_type": "display_data"
    }
   ],
   "source": [
    "import datetime\n",
    "\n",
    "def plot_avg_spd(df, t):\n",
    "    \"\"\" Plot the average speed of all recorded buses within t minute intervals \n",
    "    Args: \n",
    "        df (pd.DataFrame): dataframe of bus data\n",
    "        t (int): the granularity of each time period (in minutes) for which an average is speed is calculated\n",
    "    \"\"\"\n",
    "    times = pd.to_datetime(df[\"tmstmp\"]).map(lambda dt: datetime.time(dt.hour, dt.minute-(dt.minute%t)))\n",
    "    avg = df.groupby(times).mean()\n",
    "    graph = plt.scatter(avg.index.values, avg[\"spd\"])\n",
    "    return graph\n",
    "#     print(avg.head())\n",
    "#     print(df.head())\n",
    "#     return times\n",
    "#     pass\n",
    "\n",
    "# AUTOLAB_IGNORE_START\n",
    "s = plot_avg_spd(vdf, 10)\n",
    "plt.show()\n",
    "# AUTOLAB_IGNORE_STOP"
   ]
  }
 ],
 "metadata": {
  "anaconda-cloud": {},
  "kernelspec": {
   "display_name": "Python 3",
   "language": "python",
   "name": "python3"
  },
  "language_info": {
   "codemirror_mode": {
    "name": "ipython",
    "version": 3
   },
   "file_extension": ".py",
   "mimetype": "text/x-python",
   "name": "python",
   "nbconvert_exporter": "python",
   "pygments_lexer": "ipython3",
   "version": "3.6.3"
  }
 },
 "nbformat": 4,
 "nbformat_minor": 1
}
